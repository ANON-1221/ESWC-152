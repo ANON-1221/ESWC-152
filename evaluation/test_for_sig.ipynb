{
 "cells": [
  {
   "cell_type": "markdown",
   "source": [
    "# Test for statistical significance\n",
    "There are two baseline methods for generation:\n",
    "1. NLPrompt: The description of opinion concepts is in Natural Language.\n",
    "2. OntoPrompt: Serialized description of ontology added to the prompt"
   ],
   "metadata": {
    "collapsed": false
   },
   "id": "e4393280919f81ac"
  },
  {
   "cell_type": "code",
   "execution_count": 2,
   "outputs": [],
   "source": [
    "import scipy.stats as stats\n",
    "import numpy as np"
   ],
   "metadata": {
    "collapsed": false,
    "ExecuteTime": {
     "end_time": "2025-02-04T11:59:43.308479Z",
     "start_time": "2025-02-04T11:59:43.294295Z"
    }
   },
   "id": "5c64a0bba3df6d42"
  },
  {
   "cell_type": "markdown",
   "source": [
    "## Shapiro-Wilk Test\n",
    "\n",
    "### Statistical test to see if the sequences follow a normal distribution or not\n",
    "Results from table-5, F1 scores averaged between models, and the standard deviation\n",
    "\n",
    "Followed by:\n",
    "**Welch's t-test (Independent t-test)**\n",
    "and\n",
    "**Mann-Whitney U Test**\n"
   ],
   "metadata": {
    "collapsed": false
   },
   "id": "5d4c37500068e40e"
  },
  {
   "cell_type": "code",
   "execution_count": 8,
   "id": "initial_id",
   "metadata": {
    "collapsed": true,
    "ExecuteTime": {
     "end_time": "2025-02-04T12:19:06.912870Z",
     "start_time": "2025-02-04T12:19:06.904050Z"
    }
   },
   "outputs": [
    {
     "name": "stdout",
     "output_type": "stream",
     "text": [
      "Shapiro-Wilk Normality Test (Method A, i.e. NLPrompt): ShapiroResult(statistic=0.9055399894714355, pvalue=0.40771064162254333)\n",
      "Shapiro-Wilk Normality Test (Method B, i.e. OntoPrompt): ShapiroResult(statistic=0.9426997303962708, pvalue=0.6631444692611694)\n",
      "Independent t-test (Welch's t-test): Ttest_indResult(statistic=-2.0329499813774965, pvalue=0.07391524561488866)\n",
      "Mann-Whitney U Test: MannwhitneyuResult(statistic=7.0, pvalue=0.05128205128205128)\n"
     ]
    }
   ],
   "source": [
    "\n",
    "# Data for Method A (NLPrompts)\n",
    "means_A = np.array([55.34, 54.91, 55.81, 55.48, 54.65, 53.41])\n",
    "stdevs_A = np.array([5.29, 4.01, 5.69, 6.4, 4.37, 7.38])\n",
    "\n",
    "# Data for Method B (OntoPrompts)\n",
    "means_B = np.array([56.65, 55.88, 55.92, 55.0, 55.71, 55.08, 56.15])\n",
    "stdevs_B = np.array([3.31, 3.32, 3.52, 3.5, 3.6, 3.38, 4.14])\n",
    "\n",
    "# Perform normality tests\n",
    "shapiro_A = stats.shapiro(means_A)\n",
    "shapiro_B = stats.shapiro(means_B)\n",
    "\n",
    "# Perform an independent t-test (Welch's t-test)\n",
    "t_test = stats.ttest_ind(means_A, means_B, equal_var=False)\n",
    "\n",
    "# Perform a Mann-Whitney U test (non-parametric alternative)\n",
    "mann_whitney = stats.mannwhitneyu(means_A, means_B, alternative='two-sided')\n",
    "\n",
    "# Output results\n",
    "print(\"Shapiro-Wilk Normality Test (Method A, i.e. NLPrompt):\", shapiro_A)\n",
    "print(\"Shapiro-Wilk Normality Test (Method B, i.e. OntoPrompt):\", shapiro_B)\n",
    "print(\"Independent t-test (Welch's t-test):\", t_test)\n",
    "print(\"Mann-Whitney U Test:\", mann_whitney)"
   ]
  },
  {
   "cell_type": "markdown",
   "source": [
    "## Inferencing statistical significace tests\n",
    "Neither the Welch’s t-test nor the Mann-Whitney U test indicates a statistically significant difference between Method A and Method B at the 95% confidence level.\n",
    "However, both p-values are borderline suggesting a **potential trend towards significance** that might be observed at a confidence threshold of 90%.\n"
   ],
   "metadata": {
    "collapsed": false
   },
   "id": "930c9d9a37a8098d"
  }
 ],
 "metadata": {
  "kernelspec": {
   "display_name": "Python 3",
   "language": "python",
   "name": "python3"
  },
  "language_info": {
   "codemirror_mode": {
    "name": "ipython",
    "version": 2
   },
   "file_extension": ".py",
   "mimetype": "text/x-python",
   "name": "python",
   "nbconvert_exporter": "python",
   "pygments_lexer": "ipython2",
   "version": "2.7.6"
  }
 },
 "nbformat": 4,
 "nbformat_minor": 5
}
