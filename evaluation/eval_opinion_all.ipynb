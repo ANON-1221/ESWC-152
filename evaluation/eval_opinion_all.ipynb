{
 "cells": [
  {
   "cell_type": "code",
   "execution_count": 1,
   "metadata": {
    "ExecuteTime": {
     "end_time": "2025-02-03T14:55:54.244536Z",
     "start_time": "2025-02-03T14:55:54.017154Z"
    }
   },
   "outputs": [],
   "source": [
    "import pandas as pd\n",
    "import numpy as np\n",
    "\n",
    "GOLD_PATH = '../dataset_and_results/benchmark_dataset.csv'\n",
    "# PRED_PATH = '../ontology_experiments/results/final_results/llama_70B_owl.csv'\n",
    "\n",
    "dict_pol = {\n",
    "    'POS': 'positive',\n",
    "    'NEG': 'negative',\n",
    "    'NEU': 'neutral'\n",
    "}\n",
    "columns_incls = ['id', 'raw_text', 'aspect_term', 'sentiment_expression', 'target_entity', 'aspect_category', 'sentiment_polarity', 'opinion_holder_span', 'opinion_holder_entity', 'sentiment_intensity', 'opinion_qualifier', 'opinion_reason']"
   ]
  },
  {
   "cell_type": "code",
   "execution_count": 2,
   "metadata": {
    "ExecuteTime": {
     "end_time": "2025-02-03T14:55:55.058077Z",
     "start_time": "2025-02-03T14:55:55.049133Z"
    }
   },
   "outputs": [],
   "source": [
    "from opinion_overlap_eval import OpinionEval\n",
    "import os"
   ]
  },
  {
   "cell_type": "code",
   "execution_count": 4,
   "metadata": {
    "ExecuteTime": {
     "end_time": "2025-02-03T14:57:16.538677Z",
     "start_time": "2025-02-03T14:56:53.549727Z"
    }
   },
   "outputs": [
    {
     "name": "stdout",
     "output_type": "stream",
     "text": [
      "../dataset_and_results/llm_prediction_results/gemma2_9b/onto_prompt/csv\n",
      "../dataset_and_results/llm_prediction_results/mixtral_8x7b/onto_prompt/csv\n",
      "../dataset_and_results/llm_prediction_results/gpt-4o/onto_prompt/csv\n",
      "../dataset_and_results/llm_prediction_results/gpt-4o-mini/onto_prompt/csv\n",
      "../dataset_and_results/llm_prediction_results/llama_8b/onto_prompt/csv\n",
      "../dataset_and_results/llm_prediction_results/gemma2_27b/onto_prompt/csv\n",
      "../dataset_and_results/llm_prediction_results/llama_70b/onto_prompt/csv\n",
      "../dataset_and_results/llm_prediction_results/mistral_7b/onto_prompt/csv\n"
     ]
    }
   ],
   "source": [
    "pred_model_dir = '../dataset_and_results/llm_prediction_results/'\n",
    "mods = os.listdir(pred_model_dir)\n",
    "owl_res = 'onto_prompt'\n",
    "nat_lang_res = 'nlprompt'\n",
    "op_eval = OpinionEval(columns_incls)\n",
    "gold_df = pd.read_csv(GOLD_PATH).replace({'sentiment_polarity': dict_pol})\n",
    "fine_res_rows = []\n",
    "for mod in mods:\n",
    "    if \".\" not in mod:\n",
    "        mod_dir_path = os.path.join(pred_model_dir, mod)\n",
    "        \n",
    "        owl_res_path = os.path.join(mod_dir_path, owl_res, 'csv')\n",
    "        nat_lang_path = os.path.join(mod_dir_path, nat_lang_res, 'csv')\n",
    "        print(owl_res_path)\n",
    "        for owl_file in os.listdir(owl_res_path):\n",
    "            pred_df = pd.read_csv(os.path.join(owl_res_path, owl_file))\n",
    "            scores = op_eval.eval_opinions(gold_df, pred_df)\n",
    "            fine_res_rows.append([mod, 'onto_prompt', owl_file.replace('.csv', ''), round(scores['precision']*100, 2), round(scores['recall']*100, 2), round(scores['f1']*100, 2)])\n",
    "        for nat_file in os.listdir(nat_lang_path):\n",
    "            pred_df = pd.read_csv(os.path.join(nat_lang_path, nat_file))\n",
    "            scores = op_eval.eval_opinions(gold_df, pred_df)\n",
    "            fine_res_rows.append([mod, 'nlprompt', nat_file.replace('.csv', ''), round(scores['precision']*100, 2), round(scores['recall']*100, 2), round(scores['f1']*100, 2)])\n",
    "\n"
   ]
  },
  {
   "cell_type": "code",
   "execution_count": 4,
   "metadata": {
    "ExecuteTime": {
     "end_time": "2025-02-03T14:42:40.473624Z",
     "start_time": "2025-02-03T14:42:40.461337Z"
    }
   },
   "outputs": [
    {
     "data": {
      "text/plain": "[['gemma2_9b', 'onto_prompt', 'ttl_syntax', 57.44, 58.68, 58.05],\n ['gemma2_9b', 'onto_prompt', 'owl_xml', 56.38, 58.77, 57.55],\n ['gemma2_9b', 'onto_prompt', 'manchester_owl', 56.64, 59.29, 57.94],\n ['gemma2_9b', 'onto_prompt', 'owl_funct', 73.49, 40.12, 51.9],\n ['gemma2_9b', 'onto_prompt', 'rdf_xml', 76.9, 40.79, 53.31],\n ['gemma2_9b', 'onto_prompt', 'obo_format', 57.11, 57.94, 57.52],\n ['gemma2_9b', 'onto_prompt', 'jsonld', 57.92, 58.85, 58.38],\n ['gemma2_9b', 'nlprompt', 'eg_desc_format', 62.29, 61.86, 62.07],\n ['gemma2_9b', 'nlprompt', 'desc_format_eg', 56.24, 61.89, 58.93],\n ['gemma2_9b', 'nlprompt', 'desc_eg_format', 58.1, 62.25, 60.1],\n ['gemma2_9b', 'nlprompt', 'format_eg_desc', 58.62, 57.12, 57.86],\n ['gemma2_9b', 'nlprompt', 'eg_format_desc', 62.3, 61.25, 61.77],\n ['gemma2_9b', 'nlprompt', 'format_desc_eg', 56.51, 60.32, 58.35],\n ['mixtral_8x7b', 'onto_prompt', 'ttl_syntax', 47.79, 62.84, 54.29],\n ['mixtral_8x7b', 'onto_prompt', 'owl_xml', 47.26, 61.13, 53.31],\n ['mixtral_8x7b', 'onto_prompt', 'manchester_owl', 47.92, 60.89, 53.63],\n ['mixtral_8x7b', 'onto_prompt', 'owl_funct', 48.31, 59.44, 53.3],\n ['mixtral_8x7b', 'onto_prompt', 'rdf_xml', 46.55, 59.38, 52.19],\n ['mixtral_8x7b', 'onto_prompt', 'obo_format', 47.75, 60.49, 53.37],\n ['mixtral_8x7b', 'onto_prompt', 'jsonld', 48.98, 61.88, 54.68],\n ['mixtral_8x7b', 'nlprompt', 'eg_desc_format', 48.57, 62.84, 54.79],\n ['mixtral_8x7b', 'nlprompt', 'desc_format_eg', 47.66, 61.05, 53.53],\n ['mixtral_8x7b', 'nlprompt', 'desc_eg_format', 47.57, 59.83, 53.0],\n ['mixtral_8x7b', 'nlprompt', 'format_eg_desc', 48.67, 60.79, 54.06],\n ['mixtral_8x7b', 'nlprompt', 'eg_format_desc', 48.63, 61.7, 54.39],\n ['mixtral_8x7b', 'nlprompt', 'format_desc_eg', 45.56, 61.86, 52.47],\n ['gpt-4o', 'onto_prompt', 'ttl_syntax', 56.61, 65.73, 60.83],\n ['gpt-4o', 'onto_prompt', 'owl_xml', 53.81, 64.8, 58.8],\n ['gpt-4o', 'onto_prompt', 'manchester_owl', 54.81, 64.61, 59.31],\n ['gpt-4o', 'onto_prompt', 'owl_funct', 56.66, 65.03, 60.56],\n ['gpt-4o', 'onto_prompt', 'rdf_xml', 56.35, 65.0, 60.37],\n ['gpt-4o', 'onto_prompt', 'obo_format', 55.68, 65.55, 60.22],\n ['gpt-4o', 'onto_prompt', 'jsonld', 56.34, 65.17, 60.44],\n ['gpt-4o', 'nlprompt', 'eg_desc_format', 57.57, 66.72, 61.81],\n ['gpt-4o', 'nlprompt', 'desc_format_eg', 52.55, 65.24, 58.21],\n ['gpt-4o', 'nlprompt', 'desc_eg_format', 56.46, 66.51, 61.08],\n ['gpt-4o', 'nlprompt', 'format_eg_desc', 53.57, 66.69, 59.42],\n ['gpt-4o', 'nlprompt', 'eg_format_desc', 57.59, 67.12, 61.99],\n ['gpt-4o', 'nlprompt', 'format_desc_eg', 55.49, 65.93, 60.26],\n ['gpt-4o-mini', 'onto_prompt', 'ttl_syntax', 54.83, 59.64, 57.13],\n ['gpt-4o-mini', 'onto_prompt', 'owl_xml', 55.25, 60.46, 57.74],\n ['gpt-4o-mini', 'onto_prompt', 'manchester_owl', 54.96, 60.4, 57.55],\n ['gpt-4o-mini', 'onto_prompt', 'owl_funct', 54.29, 60.75, 57.34],\n ['gpt-4o-mini', 'onto_prompt', 'rdf_xml', 52.96, 62.12, 57.17],\n ['gpt-4o-mini', 'onto_prompt', 'obo_format', 52.27, 60.67, 56.16],\n ['gpt-4o-mini', 'onto_prompt', 'jsonld', 54.77, 63.21, 58.69],\n ['gpt-4o-mini', 'nlprompt', 'eg_desc_format', 54.5, 63.41, 58.62],\n ['gpt-4o-mini', 'nlprompt', 'desc_format_eg', 52.83, 62.77, 57.37],\n ['gpt-4o-mini', 'nlprompt', 'desc_eg_format', 53.92, 62.9, 58.07],\n ['gpt-4o-mini', 'nlprompt', 'format_eg_desc', 55.53, 63.86, 59.41],\n ['gpt-4o-mini', 'nlprompt', 'eg_format_desc', 56.65, 64.16, 60.17],\n ['gpt-4o-mini', 'nlprompt', 'format_desc_eg', 51.41, 62.38, 56.36],\n ['llama_8b', 'onto_prompt', 'ttl_syntax', 47.72, 58.86, 52.71],\n ['llama_8b', 'onto_prompt', 'owl_xml', 47.01, 59.97, 52.71],\n ['llama_8b', 'onto_prompt', 'manchester_owl', 50.78, 58.77, 54.48],\n ['llama_8b', 'onto_prompt', 'owl_funct', 47.2, 59.37, 52.59],\n ['llama_8b', 'onto_prompt', 'rdf_xml', 49.32, 59.54, 53.95],\n ['llama_8b', 'onto_prompt', 'obo_format', 46.69, 60.63, 52.75],\n ['llama_8b', 'onto_prompt', 'jsonld', 49.13, 58.66, 53.47],\n ['llama_8b', 'nlprompt', 'eg_desc_format', 38.52, 59.26, 46.69],\n ['llama_8b', 'nlprompt', 'desc_format_eg', 44.47, 64.18, 52.54],\n ['llama_8b', 'nlprompt', 'desc_eg_format', 41.27, 59.73, 48.81],\n ['llama_8b', 'nlprompt', 'format_eg_desc', 34.95, 40.15, 37.37],\n ['llama_8b', 'nlprompt', 'eg_format_desc', 39.29, 59.51, 47.33],\n ['llama_8b', 'nlprompt', 'format_desc_eg', 43.17, 63.94, 51.54],\n ['gemma2_27b', 'onto_prompt', 'ttl_syntax', 60.04, 64.35, 62.12],\n ['gemma2_27b', 'onto_prompt', 'owl_xml', 58.0, 65.09, 61.34],\n ['gemma2_27b', 'onto_prompt', 'manchester_owl', 57.08, 63.42, 60.09],\n ['gemma2_27b', 'onto_prompt', 'owl_funct', 54.79, 62.95, 58.59],\n ['gemma2_27b', 'onto_prompt', 'rdf_xml', 54.98, 63.04, 58.74],\n ['gemma2_27b', 'onto_prompt', 'obo_format', 56.91, 65.23, 60.78],\n ['gemma2_27b', 'onto_prompt', 'jsonld', 57.2, 64.53, 60.65],\n ['gemma2_27b', 'nlprompt', 'eg_desc_format', 55.48, 65.2, 59.95],\n ['gemma2_27b', 'nlprompt', 'desc_format_eg', 54.96, 63.43, 58.89],\n ['gemma2_27b', 'nlprompt', 'desc_eg_format', 56.54, 66.24, 61.01],\n ['gemma2_27b', 'nlprompt', 'format_eg_desc', 51.64, 63.02, 56.77],\n ['gemma2_27b', 'nlprompt', 'eg_format_desc', 55.38, 65.5, 60.01],\n ['gemma2_27b', 'nlprompt', 'format_desc_eg', 52.93, 64.59, 58.18],\n ['llama_70b', 'onto_prompt', 'eg_desc_format', 40.86, 66.06, 50.49],\n ['llama_70b', 'onto_prompt', 'desc_format_eg', 37.31, 67.75, 48.12],\n ['llama_70b', 'onto_prompt', 'desc_eg_format', 39.19, 66.16, 49.22],\n ['llama_70b', 'onto_prompt', 'format_eg_desc', 39.03, 65.38, 48.88],\n ['llama_70b', 'onto_prompt', 'eg_format_desc', 36.54, 63.96, 46.51],\n ['llama_70b', 'onto_prompt', 'format_desc_eg', 36.76, 65.96, 47.21],\n ['llama_70b', 'nlprompt', 'ttl_syntax', 46.05, 65.76, 54.17],\n ['llama_70b', 'nlprompt', 'owl_xml', 45.58, 63.16, 52.95],\n ['llama_70b', 'nlprompt', 'manchester_owl', 44.99, 65.53, 53.35],\n ['llama_70b', 'nlprompt', 'owl_funct', 47.09, 66.14, 55.01],\n ['llama_70b', 'nlprompt', 'rdf_xml', 46.27, 66.01, 54.4],\n ['llama_70b', 'nlprompt', 'obo_format', 48.8, 64.75, 55.66],\n ['llama_70b', 'nlprompt', 'jsonld', 48.21, 64.05, 55.01],\n ['mistral_7b', 'onto_prompt', 'ttl_syntax', 45.08, 55.96, 49.93],\n ['mistral_7b', 'onto_prompt', 'owl_xml', 47.75, 55.32, 51.26],\n ['mistral_7b', 'onto_prompt', 'manchester_owl', 46.76, 55.24, 50.65],\n ['mistral_7b', 'onto_prompt', 'owl_funct', 47.55, 54.38, 50.74],\n ['mistral_7b', 'onto_prompt', 'rdf_xml', 47.41, 54.03, 50.5],\n ['mistral_7b', 'onto_prompt', 'obo_format', 46.39, 56.3, 50.87],\n ['mistral_7b', 'onto_prompt', 'jsonld', 48.14, 56.27, 51.89],\n ['mistral_7b', 'nlprompt', 'eg_desc_format', 46.36, 59.3, 52.04],\n ['mistral_7b', 'nlprompt', 'desc_format_eg', 46.84, 57.77, 51.73],\n ['mistral_7b', 'nlprompt', 'desc_eg_format', 48.53, 54.76, 51.45],\n ['mistral_7b', 'nlprompt', 'format_eg_desc', 49.64, 57.94, 53.47],\n ['mistral_7b', 'nlprompt', 'eg_format_desc', 46.55, 58.02, 51.66],\n ['mistral_7b', 'nlprompt', 'format_desc_eg', 48.15, 58.4, 52.78]]"
     },
     "execution_count": 4,
     "metadata": {},
     "output_type": "execute_result"
    }
   ],
   "source": [
    "fine_res_rows"
   ]
  },
  {
   "cell_type": "code",
   "execution_count": 5,
   "metadata": {
    "ExecuteTime": {
     "end_time": "2025-02-03T14:42:43.248029Z",
     "start_time": "2025-02-03T14:42:43.244376Z"
    }
   },
   "outputs": [],
   "source": [
    "df = pd.DataFrame(fine_res_rows, columns=['model', 'prompt', 'variation',  'precision', 'recall', 'f1'])"
   ]
  },
  {
   "cell_type": "code",
   "execution_count": 6,
   "metadata": {
    "ExecuteTime": {
     "end_time": "2025-02-03T14:42:44.227178Z",
     "start_time": "2025-02-03T14:42:44.219892Z"
    }
   },
   "outputs": [
    {
     "data": {
      "text/plain": "          model       prompt       variation  precision  recall     f1\n0     gemma2_9b  onto_prompt      ttl_syntax      57.44   58.68  58.05\n1     gemma2_9b  onto_prompt         owl_xml      56.38   58.77  57.55\n2     gemma2_9b  onto_prompt  manchester_owl      56.64   59.29  57.94\n3     gemma2_9b  onto_prompt       owl_funct      73.49   40.12  51.90\n4     gemma2_9b  onto_prompt         rdf_xml      76.90   40.79  53.31\n..          ...          ...             ...        ...     ...    ...\n99   mistral_7b     nlprompt  desc_format_eg      46.84   57.77  51.73\n100  mistral_7b     nlprompt  desc_eg_format      48.53   54.76  51.45\n101  mistral_7b     nlprompt  format_eg_desc      49.64   57.94  53.47\n102  mistral_7b     nlprompt  eg_format_desc      46.55   58.02  51.66\n103  mistral_7b     nlprompt  format_desc_eg      48.15   58.40  52.78\n\n[104 rows x 6 columns]",
      "text/html": "<div>\n<style scoped>\n    .dataframe tbody tr th:only-of-type {\n        vertical-align: middle;\n    }\n\n    .dataframe tbody tr th {\n        vertical-align: top;\n    }\n\n    .dataframe thead th {\n        text-align: right;\n    }\n</style>\n<table border=\"1\" class=\"dataframe\">\n  <thead>\n    <tr style=\"text-align: right;\">\n      <th></th>\n      <th>model</th>\n      <th>prompt</th>\n      <th>variation</th>\n      <th>precision</th>\n      <th>recall</th>\n      <th>f1</th>\n    </tr>\n  </thead>\n  <tbody>\n    <tr>\n      <th>0</th>\n      <td>gemma2_9b</td>\n      <td>onto_prompt</td>\n      <td>ttl_syntax</td>\n      <td>57.44</td>\n      <td>58.68</td>\n      <td>58.05</td>\n    </tr>\n    <tr>\n      <th>1</th>\n      <td>gemma2_9b</td>\n      <td>onto_prompt</td>\n      <td>owl_xml</td>\n      <td>56.38</td>\n      <td>58.77</td>\n      <td>57.55</td>\n    </tr>\n    <tr>\n      <th>2</th>\n      <td>gemma2_9b</td>\n      <td>onto_prompt</td>\n      <td>manchester_owl</td>\n      <td>56.64</td>\n      <td>59.29</td>\n      <td>57.94</td>\n    </tr>\n    <tr>\n      <th>3</th>\n      <td>gemma2_9b</td>\n      <td>onto_prompt</td>\n      <td>owl_funct</td>\n      <td>73.49</td>\n      <td>40.12</td>\n      <td>51.90</td>\n    </tr>\n    <tr>\n      <th>4</th>\n      <td>gemma2_9b</td>\n      <td>onto_prompt</td>\n      <td>rdf_xml</td>\n      <td>76.90</td>\n      <td>40.79</td>\n      <td>53.31</td>\n    </tr>\n    <tr>\n      <th>...</th>\n      <td>...</td>\n      <td>...</td>\n      <td>...</td>\n      <td>...</td>\n      <td>...</td>\n      <td>...</td>\n    </tr>\n    <tr>\n      <th>99</th>\n      <td>mistral_7b</td>\n      <td>nlprompt</td>\n      <td>desc_format_eg</td>\n      <td>46.84</td>\n      <td>57.77</td>\n      <td>51.73</td>\n    </tr>\n    <tr>\n      <th>100</th>\n      <td>mistral_7b</td>\n      <td>nlprompt</td>\n      <td>desc_eg_format</td>\n      <td>48.53</td>\n      <td>54.76</td>\n      <td>51.45</td>\n    </tr>\n    <tr>\n      <th>101</th>\n      <td>mistral_7b</td>\n      <td>nlprompt</td>\n      <td>format_eg_desc</td>\n      <td>49.64</td>\n      <td>57.94</td>\n      <td>53.47</td>\n    </tr>\n    <tr>\n      <th>102</th>\n      <td>mistral_7b</td>\n      <td>nlprompt</td>\n      <td>eg_format_desc</td>\n      <td>46.55</td>\n      <td>58.02</td>\n      <td>51.66</td>\n    </tr>\n    <tr>\n      <th>103</th>\n      <td>mistral_7b</td>\n      <td>nlprompt</td>\n      <td>format_desc_eg</td>\n      <td>48.15</td>\n      <td>58.40</td>\n      <td>52.78</td>\n    </tr>\n  </tbody>\n</table>\n<p>104 rows × 6 columns</p>\n</div>"
     },
     "execution_count": 6,
     "metadata": {},
     "output_type": "execute_result"
    }
   ],
   "source": [
    "df"
   ]
  },
  {
   "cell_type": "code",
   "execution_count": 7,
   "metadata": {
    "ExecuteTime": {
     "end_time": "2025-02-03T14:42:45.469354Z",
     "start_time": "2025-02-03T14:42:45.462620Z"
    }
   },
   "outputs": [],
   "source": [
    "onto_res = df[df['prompt'] == 'onto_prompt']\n",
    "nlp_res = df[df['prompt'] == 'nlprompt']"
   ]
  },
  {
   "cell_type": "code",
   "execution_count": 8,
   "metadata": {
    "ExecuteTime": {
     "end_time": "2025-02-03T14:42:49.642117Z",
     "start_time": "2025-02-03T14:42:49.618416Z"
    }
   },
   "outputs": [
    {
     "data": {
      "text/plain": "            model    prompt       variation  precision  recall     f1\n7       gemma2_9b  nlprompt  eg_desc_format      62.29   61.86  62.07\n8       gemma2_9b  nlprompt  desc_format_eg      56.24   61.89  58.93\n9       gemma2_9b  nlprompt  desc_eg_format      58.10   62.25  60.10\n10      gemma2_9b  nlprompt  format_eg_desc      58.62   57.12  57.86\n11      gemma2_9b  nlprompt  eg_format_desc      62.30   61.25  61.77\n12      gemma2_9b  nlprompt  format_desc_eg      56.51   60.32  58.35\n20   mixtral_8x7b  nlprompt  eg_desc_format      48.57   62.84  54.79\n21   mixtral_8x7b  nlprompt  desc_format_eg      47.66   61.05  53.53\n22   mixtral_8x7b  nlprompt  desc_eg_format      47.57   59.83  53.00\n23   mixtral_8x7b  nlprompt  format_eg_desc      48.67   60.79  54.06\n24   mixtral_8x7b  nlprompt  eg_format_desc      48.63   61.70  54.39\n25   mixtral_8x7b  nlprompt  format_desc_eg      45.56   61.86  52.47\n33         gpt-4o  nlprompt  eg_desc_format      57.57   66.72  61.81\n34         gpt-4o  nlprompt  desc_format_eg      52.55   65.24  58.21\n35         gpt-4o  nlprompt  desc_eg_format      56.46   66.51  61.08\n36         gpt-4o  nlprompt  format_eg_desc      53.57   66.69  59.42\n37         gpt-4o  nlprompt  eg_format_desc      57.59   67.12  61.99\n38         gpt-4o  nlprompt  format_desc_eg      55.49   65.93  60.26\n46    gpt-4o-mini  nlprompt  eg_desc_format      54.50   63.41  58.62\n47    gpt-4o-mini  nlprompt  desc_format_eg      52.83   62.77  57.37\n48    gpt-4o-mini  nlprompt  desc_eg_format      53.92   62.90  58.07\n49    gpt-4o-mini  nlprompt  format_eg_desc      55.53   63.86  59.41\n50    gpt-4o-mini  nlprompt  eg_format_desc      56.65   64.16  60.17\n51    gpt-4o-mini  nlprompt  format_desc_eg      51.41   62.38  56.36\n59       llama_8b  nlprompt  eg_desc_format      38.52   59.26  46.69\n60       llama_8b  nlprompt  desc_format_eg      44.47   64.18  52.54\n61       llama_8b  nlprompt  desc_eg_format      41.27   59.73  48.81\n62       llama_8b  nlprompt  format_eg_desc      34.95   40.15  37.37\n63       llama_8b  nlprompt  eg_format_desc      39.29   59.51  47.33\n64       llama_8b  nlprompt  format_desc_eg      43.17   63.94  51.54\n72     gemma2_27b  nlprompt  eg_desc_format      55.48   65.20  59.95\n73     gemma2_27b  nlprompt  desc_format_eg      54.96   63.43  58.89\n74     gemma2_27b  nlprompt  desc_eg_format      56.54   66.24  61.01\n75     gemma2_27b  nlprompt  format_eg_desc      51.64   63.02  56.77\n76     gemma2_27b  nlprompt  eg_format_desc      55.38   65.50  60.01\n77     gemma2_27b  nlprompt  format_desc_eg      52.93   64.59  58.18\n84      llama_70b  nlprompt      ttl_syntax      46.05   65.76  54.17\n85      llama_70b  nlprompt         owl_xml      45.58   63.16  52.95\n86      llama_70b  nlprompt  manchester_owl      44.99   65.53  53.35\n87      llama_70b  nlprompt       owl_funct      47.09   66.14  55.01\n88      llama_70b  nlprompt         rdf_xml      46.27   66.01  54.40\n89      llama_70b  nlprompt      obo_format      48.80   64.75  55.66\n90      llama_70b  nlprompt          jsonld      48.21   64.05  55.01\n98     mistral_7b  nlprompt  eg_desc_format      46.36   59.30  52.04\n99     mistral_7b  nlprompt  desc_format_eg      46.84   57.77  51.73\n100    mistral_7b  nlprompt  desc_eg_format      48.53   54.76  51.45\n101    mistral_7b  nlprompt  format_eg_desc      49.64   57.94  53.47\n102    mistral_7b  nlprompt  eg_format_desc      46.55   58.02  51.66\n103    mistral_7b  nlprompt  format_desc_eg      48.15   58.40  52.78",
      "text/html": "<div>\n<style scoped>\n    .dataframe tbody tr th:only-of-type {\n        vertical-align: middle;\n    }\n\n    .dataframe tbody tr th {\n        vertical-align: top;\n    }\n\n    .dataframe thead th {\n        text-align: right;\n    }\n</style>\n<table border=\"1\" class=\"dataframe\">\n  <thead>\n    <tr style=\"text-align: right;\">\n      <th></th>\n      <th>model</th>\n      <th>prompt</th>\n      <th>variation</th>\n      <th>precision</th>\n      <th>recall</th>\n      <th>f1</th>\n    </tr>\n  </thead>\n  <tbody>\n    <tr>\n      <th>7</th>\n      <td>gemma2_9b</td>\n      <td>nlprompt</td>\n      <td>eg_desc_format</td>\n      <td>62.29</td>\n      <td>61.86</td>\n      <td>62.07</td>\n    </tr>\n    <tr>\n      <th>8</th>\n      <td>gemma2_9b</td>\n      <td>nlprompt</td>\n      <td>desc_format_eg</td>\n      <td>56.24</td>\n      <td>61.89</td>\n      <td>58.93</td>\n    </tr>\n    <tr>\n      <th>9</th>\n      <td>gemma2_9b</td>\n      <td>nlprompt</td>\n      <td>desc_eg_format</td>\n      <td>58.10</td>\n      <td>62.25</td>\n      <td>60.10</td>\n    </tr>\n    <tr>\n      <th>10</th>\n      <td>gemma2_9b</td>\n      <td>nlprompt</td>\n      <td>format_eg_desc</td>\n      <td>58.62</td>\n      <td>57.12</td>\n      <td>57.86</td>\n    </tr>\n    <tr>\n      <th>11</th>\n      <td>gemma2_9b</td>\n      <td>nlprompt</td>\n      <td>eg_format_desc</td>\n      <td>62.30</td>\n      <td>61.25</td>\n      <td>61.77</td>\n    </tr>\n    <tr>\n      <th>12</th>\n      <td>gemma2_9b</td>\n      <td>nlprompt</td>\n      <td>format_desc_eg</td>\n      <td>56.51</td>\n      <td>60.32</td>\n      <td>58.35</td>\n    </tr>\n    <tr>\n      <th>20</th>\n      <td>mixtral_8x7b</td>\n      <td>nlprompt</td>\n      <td>eg_desc_format</td>\n      <td>48.57</td>\n      <td>62.84</td>\n      <td>54.79</td>\n    </tr>\n    <tr>\n      <th>21</th>\n      <td>mixtral_8x7b</td>\n      <td>nlprompt</td>\n      <td>desc_format_eg</td>\n      <td>47.66</td>\n      <td>61.05</td>\n      <td>53.53</td>\n    </tr>\n    <tr>\n      <th>22</th>\n      <td>mixtral_8x7b</td>\n      <td>nlprompt</td>\n      <td>desc_eg_format</td>\n      <td>47.57</td>\n      <td>59.83</td>\n      <td>53.00</td>\n    </tr>\n    <tr>\n      <th>23</th>\n      <td>mixtral_8x7b</td>\n      <td>nlprompt</td>\n      <td>format_eg_desc</td>\n      <td>48.67</td>\n      <td>60.79</td>\n      <td>54.06</td>\n    </tr>\n    <tr>\n      <th>24</th>\n      <td>mixtral_8x7b</td>\n      <td>nlprompt</td>\n      <td>eg_format_desc</td>\n      <td>48.63</td>\n      <td>61.70</td>\n      <td>54.39</td>\n    </tr>\n    <tr>\n      <th>25</th>\n      <td>mixtral_8x7b</td>\n      <td>nlprompt</td>\n      <td>format_desc_eg</td>\n      <td>45.56</td>\n      <td>61.86</td>\n      <td>52.47</td>\n    </tr>\n    <tr>\n      <th>33</th>\n      <td>gpt-4o</td>\n      <td>nlprompt</td>\n      <td>eg_desc_format</td>\n      <td>57.57</td>\n      <td>66.72</td>\n      <td>61.81</td>\n    </tr>\n    <tr>\n      <th>34</th>\n      <td>gpt-4o</td>\n      <td>nlprompt</td>\n      <td>desc_format_eg</td>\n      <td>52.55</td>\n      <td>65.24</td>\n      <td>58.21</td>\n    </tr>\n    <tr>\n      <th>35</th>\n      <td>gpt-4o</td>\n      <td>nlprompt</td>\n      <td>desc_eg_format</td>\n      <td>56.46</td>\n      <td>66.51</td>\n      <td>61.08</td>\n    </tr>\n    <tr>\n      <th>36</th>\n      <td>gpt-4o</td>\n      <td>nlprompt</td>\n      <td>format_eg_desc</td>\n      <td>53.57</td>\n      <td>66.69</td>\n      <td>59.42</td>\n    </tr>\n    <tr>\n      <th>37</th>\n      <td>gpt-4o</td>\n      <td>nlprompt</td>\n      <td>eg_format_desc</td>\n      <td>57.59</td>\n      <td>67.12</td>\n      <td>61.99</td>\n    </tr>\n    <tr>\n      <th>38</th>\n      <td>gpt-4o</td>\n      <td>nlprompt</td>\n      <td>format_desc_eg</td>\n      <td>55.49</td>\n      <td>65.93</td>\n      <td>60.26</td>\n    </tr>\n    <tr>\n      <th>46</th>\n      <td>gpt-4o-mini</td>\n      <td>nlprompt</td>\n      <td>eg_desc_format</td>\n      <td>54.50</td>\n      <td>63.41</td>\n      <td>58.62</td>\n    </tr>\n    <tr>\n      <th>47</th>\n      <td>gpt-4o-mini</td>\n      <td>nlprompt</td>\n      <td>desc_format_eg</td>\n      <td>52.83</td>\n      <td>62.77</td>\n      <td>57.37</td>\n    </tr>\n    <tr>\n      <th>48</th>\n      <td>gpt-4o-mini</td>\n      <td>nlprompt</td>\n      <td>desc_eg_format</td>\n      <td>53.92</td>\n      <td>62.90</td>\n      <td>58.07</td>\n    </tr>\n    <tr>\n      <th>49</th>\n      <td>gpt-4o-mini</td>\n      <td>nlprompt</td>\n      <td>format_eg_desc</td>\n      <td>55.53</td>\n      <td>63.86</td>\n      <td>59.41</td>\n    </tr>\n    <tr>\n      <th>50</th>\n      <td>gpt-4o-mini</td>\n      <td>nlprompt</td>\n      <td>eg_format_desc</td>\n      <td>56.65</td>\n      <td>64.16</td>\n      <td>60.17</td>\n    </tr>\n    <tr>\n      <th>51</th>\n      <td>gpt-4o-mini</td>\n      <td>nlprompt</td>\n      <td>format_desc_eg</td>\n      <td>51.41</td>\n      <td>62.38</td>\n      <td>56.36</td>\n    </tr>\n    <tr>\n      <th>59</th>\n      <td>llama_8b</td>\n      <td>nlprompt</td>\n      <td>eg_desc_format</td>\n      <td>38.52</td>\n      <td>59.26</td>\n      <td>46.69</td>\n    </tr>\n    <tr>\n      <th>60</th>\n      <td>llama_8b</td>\n      <td>nlprompt</td>\n      <td>desc_format_eg</td>\n      <td>44.47</td>\n      <td>64.18</td>\n      <td>52.54</td>\n    </tr>\n    <tr>\n      <th>61</th>\n      <td>llama_8b</td>\n      <td>nlprompt</td>\n      <td>desc_eg_format</td>\n      <td>41.27</td>\n      <td>59.73</td>\n      <td>48.81</td>\n    </tr>\n    <tr>\n      <th>62</th>\n      <td>llama_8b</td>\n      <td>nlprompt</td>\n      <td>format_eg_desc</td>\n      <td>34.95</td>\n      <td>40.15</td>\n      <td>37.37</td>\n    </tr>\n    <tr>\n      <th>63</th>\n      <td>llama_8b</td>\n      <td>nlprompt</td>\n      <td>eg_format_desc</td>\n      <td>39.29</td>\n      <td>59.51</td>\n      <td>47.33</td>\n    </tr>\n    <tr>\n      <th>64</th>\n      <td>llama_8b</td>\n      <td>nlprompt</td>\n      <td>format_desc_eg</td>\n      <td>43.17</td>\n      <td>63.94</td>\n      <td>51.54</td>\n    </tr>\n    <tr>\n      <th>72</th>\n      <td>gemma2_27b</td>\n      <td>nlprompt</td>\n      <td>eg_desc_format</td>\n      <td>55.48</td>\n      <td>65.20</td>\n      <td>59.95</td>\n    </tr>\n    <tr>\n      <th>73</th>\n      <td>gemma2_27b</td>\n      <td>nlprompt</td>\n      <td>desc_format_eg</td>\n      <td>54.96</td>\n      <td>63.43</td>\n      <td>58.89</td>\n    </tr>\n    <tr>\n      <th>74</th>\n      <td>gemma2_27b</td>\n      <td>nlprompt</td>\n      <td>desc_eg_format</td>\n      <td>56.54</td>\n      <td>66.24</td>\n      <td>61.01</td>\n    </tr>\n    <tr>\n      <th>75</th>\n      <td>gemma2_27b</td>\n      <td>nlprompt</td>\n      <td>format_eg_desc</td>\n      <td>51.64</td>\n      <td>63.02</td>\n      <td>56.77</td>\n    </tr>\n    <tr>\n      <th>76</th>\n      <td>gemma2_27b</td>\n      <td>nlprompt</td>\n      <td>eg_format_desc</td>\n      <td>55.38</td>\n      <td>65.50</td>\n      <td>60.01</td>\n    </tr>\n    <tr>\n      <th>77</th>\n      <td>gemma2_27b</td>\n      <td>nlprompt</td>\n      <td>format_desc_eg</td>\n      <td>52.93</td>\n      <td>64.59</td>\n      <td>58.18</td>\n    </tr>\n    <tr>\n      <th>84</th>\n      <td>llama_70b</td>\n      <td>nlprompt</td>\n      <td>ttl_syntax</td>\n      <td>46.05</td>\n      <td>65.76</td>\n      <td>54.17</td>\n    </tr>\n    <tr>\n      <th>85</th>\n      <td>llama_70b</td>\n      <td>nlprompt</td>\n      <td>owl_xml</td>\n      <td>45.58</td>\n      <td>63.16</td>\n      <td>52.95</td>\n    </tr>\n    <tr>\n      <th>86</th>\n      <td>llama_70b</td>\n      <td>nlprompt</td>\n      <td>manchester_owl</td>\n      <td>44.99</td>\n      <td>65.53</td>\n      <td>53.35</td>\n    </tr>\n    <tr>\n      <th>87</th>\n      <td>llama_70b</td>\n      <td>nlprompt</td>\n      <td>owl_funct</td>\n      <td>47.09</td>\n      <td>66.14</td>\n      <td>55.01</td>\n    </tr>\n    <tr>\n      <th>88</th>\n      <td>llama_70b</td>\n      <td>nlprompt</td>\n      <td>rdf_xml</td>\n      <td>46.27</td>\n      <td>66.01</td>\n      <td>54.40</td>\n    </tr>\n    <tr>\n      <th>89</th>\n      <td>llama_70b</td>\n      <td>nlprompt</td>\n      <td>obo_format</td>\n      <td>48.80</td>\n      <td>64.75</td>\n      <td>55.66</td>\n    </tr>\n    <tr>\n      <th>90</th>\n      <td>llama_70b</td>\n      <td>nlprompt</td>\n      <td>jsonld</td>\n      <td>48.21</td>\n      <td>64.05</td>\n      <td>55.01</td>\n    </tr>\n    <tr>\n      <th>98</th>\n      <td>mistral_7b</td>\n      <td>nlprompt</td>\n      <td>eg_desc_format</td>\n      <td>46.36</td>\n      <td>59.30</td>\n      <td>52.04</td>\n    </tr>\n    <tr>\n      <th>99</th>\n      <td>mistral_7b</td>\n      <td>nlprompt</td>\n      <td>desc_format_eg</td>\n      <td>46.84</td>\n      <td>57.77</td>\n      <td>51.73</td>\n    </tr>\n    <tr>\n      <th>100</th>\n      <td>mistral_7b</td>\n      <td>nlprompt</td>\n      <td>desc_eg_format</td>\n      <td>48.53</td>\n      <td>54.76</td>\n      <td>51.45</td>\n    </tr>\n    <tr>\n      <th>101</th>\n      <td>mistral_7b</td>\n      <td>nlprompt</td>\n      <td>format_eg_desc</td>\n      <td>49.64</td>\n      <td>57.94</td>\n      <td>53.47</td>\n    </tr>\n    <tr>\n      <th>102</th>\n      <td>mistral_7b</td>\n      <td>nlprompt</td>\n      <td>eg_format_desc</td>\n      <td>46.55</td>\n      <td>58.02</td>\n      <td>51.66</td>\n    </tr>\n    <tr>\n      <th>103</th>\n      <td>mistral_7b</td>\n      <td>nlprompt</td>\n      <td>format_desc_eg</td>\n      <td>48.15</td>\n      <td>58.40</td>\n      <td>52.78</td>\n    </tr>\n  </tbody>\n</table>\n</div>"
     },
     "execution_count": 8,
     "metadata": {},
     "output_type": "execute_result"
    }
   ],
   "source": [
    "nlp_res"
   ]
  },
  {
   "cell_type": "code",
   "execution_count": 9,
   "metadata": {
    "ExecuteTime": {
     "end_time": "2025-02-03T14:42:50.658693Z",
     "start_time": "2025-02-03T14:42:50.629095Z"
    }
   },
   "outputs": [],
   "source": [
    "best_preds_onto = onto_res[onto_res['variation']=='jsonld'][['model', 'precision', 'recall', 'f1']]\n",
    "best_preds_nlp = nlp_res[nlp_res['variation']=='eg_desc_format'][['model', 'precision', 'recall', 'f1']]"
   ]
  },
  {
   "cell_type": "code",
   "execution_count": 10,
   "metadata": {
    "ExecuteTime": {
     "end_time": "2025-02-03T14:42:51.651925Z",
     "start_time": "2025-02-03T14:42:51.646250Z"
    }
   },
   "outputs": [
    {
     "data": {
      "text/plain": "           model  precision  recall     f1\n7      gemma2_9b      62.29   61.86  62.07\n20  mixtral_8x7b      48.57   62.84  54.79\n33        gpt-4o      57.57   66.72  61.81\n46   gpt-4o-mini      54.50   63.41  58.62\n59      llama_8b      38.52   59.26  46.69\n72    gemma2_27b      55.48   65.20  59.95\n98    mistral_7b      46.36   59.30  52.04",
      "text/html": "<div>\n<style scoped>\n    .dataframe tbody tr th:only-of-type {\n        vertical-align: middle;\n    }\n\n    .dataframe tbody tr th {\n        vertical-align: top;\n    }\n\n    .dataframe thead th {\n        text-align: right;\n    }\n</style>\n<table border=\"1\" class=\"dataframe\">\n  <thead>\n    <tr style=\"text-align: right;\">\n      <th></th>\n      <th>model</th>\n      <th>precision</th>\n      <th>recall</th>\n      <th>f1</th>\n    </tr>\n  </thead>\n  <tbody>\n    <tr>\n      <th>7</th>\n      <td>gemma2_9b</td>\n      <td>62.29</td>\n      <td>61.86</td>\n      <td>62.07</td>\n    </tr>\n    <tr>\n      <th>20</th>\n      <td>mixtral_8x7b</td>\n      <td>48.57</td>\n      <td>62.84</td>\n      <td>54.79</td>\n    </tr>\n    <tr>\n      <th>33</th>\n      <td>gpt-4o</td>\n      <td>57.57</td>\n      <td>66.72</td>\n      <td>61.81</td>\n    </tr>\n    <tr>\n      <th>46</th>\n      <td>gpt-4o-mini</td>\n      <td>54.50</td>\n      <td>63.41</td>\n      <td>58.62</td>\n    </tr>\n    <tr>\n      <th>59</th>\n      <td>llama_8b</td>\n      <td>38.52</td>\n      <td>59.26</td>\n      <td>46.69</td>\n    </tr>\n    <tr>\n      <th>72</th>\n      <td>gemma2_27b</td>\n      <td>55.48</td>\n      <td>65.20</td>\n      <td>59.95</td>\n    </tr>\n    <tr>\n      <th>98</th>\n      <td>mistral_7b</td>\n      <td>46.36</td>\n      <td>59.30</td>\n      <td>52.04</td>\n    </tr>\n  </tbody>\n</table>\n</div>"
     },
     "execution_count": 10,
     "metadata": {},
     "output_type": "execute_result"
    }
   ],
   "source": [
    "best_preds_nlp"
   ]
  },
  {
   "cell_type": "code",
   "execution_count": 14,
   "metadata": {
    "ExecuteTime": {
     "end_time": "2025-02-03T14:43:05.154588Z",
     "start_time": "2025-02-03T14:43:05.152283Z"
    }
   },
   "outputs": [],
   "source": [
    "sorted_res = best_preds_nlp.merge(best_preds_onto, on=\"model\", how=\"inner\", suffixes=[\"_nlprompt\", \"_onto_prompt\"])"
   ]
  },
  {
   "cell_type": "code",
   "execution_count": 15,
   "metadata": {
    "ExecuteTime": {
     "end_time": "2025-02-03T14:43:06.141926Z",
     "start_time": "2025-02-03T14:43:06.117446Z"
    }
   },
   "outputs": [
    {
     "data": {
      "text/plain": "          model  precision_nlprompt  recall_nlprompt  f1_nlprompt  \\\n0     gemma2_9b               62.29            61.86        62.07   \n1  mixtral_8x7b               48.57            62.84        54.79   \n2        gpt-4o               57.57            66.72        61.81   \n3   gpt-4o-mini               54.50            63.41        58.62   \n4      llama_8b               38.52            59.26        46.69   \n5    gemma2_27b               55.48            65.20        59.95   \n6    mistral_7b               46.36            59.30        52.04   \n\n   precision_onto_prompt  recall_onto_prompt  f1_onto_prompt  \n0                  57.92               58.85           58.38  \n1                  48.98               61.88           54.68  \n2                  56.34               65.17           60.44  \n3                  54.77               63.21           58.69  \n4                  49.13               58.66           53.47  \n5                  57.20               64.53           60.65  \n6                  48.14               56.27           51.89  ",
      "text/html": "<div>\n<style scoped>\n    .dataframe tbody tr th:only-of-type {\n        vertical-align: middle;\n    }\n\n    .dataframe tbody tr th {\n        vertical-align: top;\n    }\n\n    .dataframe thead th {\n        text-align: right;\n    }\n</style>\n<table border=\"1\" class=\"dataframe\">\n  <thead>\n    <tr style=\"text-align: right;\">\n      <th></th>\n      <th>model</th>\n      <th>precision_nlprompt</th>\n      <th>recall_nlprompt</th>\n      <th>f1_nlprompt</th>\n      <th>precision_onto_prompt</th>\n      <th>recall_onto_prompt</th>\n      <th>f1_onto_prompt</th>\n    </tr>\n  </thead>\n  <tbody>\n    <tr>\n      <th>0</th>\n      <td>gemma2_9b</td>\n      <td>62.29</td>\n      <td>61.86</td>\n      <td>62.07</td>\n      <td>57.92</td>\n      <td>58.85</td>\n      <td>58.38</td>\n    </tr>\n    <tr>\n      <th>1</th>\n      <td>mixtral_8x7b</td>\n      <td>48.57</td>\n      <td>62.84</td>\n      <td>54.79</td>\n      <td>48.98</td>\n      <td>61.88</td>\n      <td>54.68</td>\n    </tr>\n    <tr>\n      <th>2</th>\n      <td>gpt-4o</td>\n      <td>57.57</td>\n      <td>66.72</td>\n      <td>61.81</td>\n      <td>56.34</td>\n      <td>65.17</td>\n      <td>60.44</td>\n    </tr>\n    <tr>\n      <th>3</th>\n      <td>gpt-4o-mini</td>\n      <td>54.50</td>\n      <td>63.41</td>\n      <td>58.62</td>\n      <td>54.77</td>\n      <td>63.21</td>\n      <td>58.69</td>\n    </tr>\n    <tr>\n      <th>4</th>\n      <td>llama_8b</td>\n      <td>38.52</td>\n      <td>59.26</td>\n      <td>46.69</td>\n      <td>49.13</td>\n      <td>58.66</td>\n      <td>53.47</td>\n    </tr>\n    <tr>\n      <th>5</th>\n      <td>gemma2_27b</td>\n      <td>55.48</td>\n      <td>65.20</td>\n      <td>59.95</td>\n      <td>57.20</td>\n      <td>64.53</td>\n      <td>60.65</td>\n    </tr>\n    <tr>\n      <th>6</th>\n      <td>mistral_7b</td>\n      <td>46.36</td>\n      <td>59.30</td>\n      <td>52.04</td>\n      <td>48.14</td>\n      <td>56.27</td>\n      <td>51.89</td>\n    </tr>\n  </tbody>\n</table>\n</div>"
     },
     "execution_count": 15,
     "metadata": {},
     "output_type": "execute_result"
    }
   ],
   "source": [
    "sorted_res"
   ]
  }
 ],
 "metadata": {
  "kernelspec": {
   "display_name": "torch_learn",
   "language": "python",
   "name": "python3"
  },
  "language_info": {
   "codemirror_mode": {
    "name": "ipython",
    "version": 3
   },
   "file_extension": ".py",
   "mimetype": "text/x-python",
   "name": "python",
   "nbconvert_exporter": "python",
   "pygments_lexer": "ipython3",
   "version": "3.10.13"
  }
 },
 "nbformat": 4,
 "nbformat_minor": 2
}
